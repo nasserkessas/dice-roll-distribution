{
 "cells": [
  {
   "cell_type": "code",
   "execution_count": 1,
   "metadata": {},
   "outputs": [],
   "source": [
    "# Imports\n",
    "import matplotlib.pyplot as plt\n",
    "from random import randint\n",
    "from collections import Counter\n",
    "import numpy as np\n",
    "\n",
    "plt.style.use('_mpl-gallery')"
   ]
  },
  {
   "cell_type": "code",
   "execution_count": 2,
   "metadata": {},
   "outputs": [],
   "source": [
    "# Variables\n",
    "iterations = 100000\n",
    "die_sides = 6\n",
    "die_count = 2"
   ]
  },
  {
   "cell_type": "code",
   "execution_count": 3,
   "metadata": {},
   "outputs": [],
   "source": [
    "# Data generation\n",
    "values = []\n",
    "\n",
    "for i in range(iterations):\n",
    "    total = 0\n",
    "    for i in range(die_count):\n",
    "        total += randint(1, die_sides)\n",
    "    values.append(total)"
   ]
  },
  {
   "cell_type": "code",
   "execution_count": 4,
   "metadata": {},
   "outputs": [],
   "source": [
    "# Counting instances of each sum\n",
    "counted = dict(sorted(Counter(values).items()))\n",
    "\n",
    "x = list(counted.keys())\n",
    "y = list(counted.values())"
   ]
  },
  {
   "cell_type": "code",
   "execution_count": 5,
   "metadata": {},
   "outputs": [],
   "source": [
    "# Make plot\n",
    "fig, ax = plt.subplots()\n",
    "\n",
    "ax.bar(x, y, width=1, align=\"edge\", edgecolor=\"white\", linewidth=0.7)\n",
    "\n",
    "ax.set(xlim=(die_count, die_count*die_sides+1),\n",
    "       ylim=(0, iterations/(die_sides/die_count*1.5)), yticks=np.linspace(0, iterations/(die_sides/die_count*1.5), 10))\n",
    "\n",
    "# Centering tick labels\n",
    "ax.set_xticklabels('')\n",
    "\n",
    "ax.set_xticks([a+0.5 for a in x],      minor=True)\n",
    "ax.set_xticklabels(x, minor=True)\n",
    "\n",
    "ax.set_xticks(x)\n",
    "\n",
    "# Show plot\n",
    "plt.show()"
   ]
  }
 ],
 "metadata": {
  "kernelspec": {
   "display_name": "Python 3.8.10 64-bit",
   "language": "python",
   "name": "python3"
  },
  "language_info": {
   "codemirror_mode": {
    "name": "ipython",
    "version": 3
   },
   "file_extension": ".py",
   "mimetype": "text/x-python",
   "name": "python",
   "nbconvert_exporter": "python",
   "pygments_lexer": "ipython3",
   "version": "3.8.10"
  },
  "orig_nbformat": 4,
  "vscode": {
   "interpreter": {
    "hash": "916dbcbb3f70747c44a77c7bcd40155683ae19c65e1c03b4aa3499c5328201f1"
   }
  }
 },
 "nbformat": 4,
 "nbformat_minor": 2
}
